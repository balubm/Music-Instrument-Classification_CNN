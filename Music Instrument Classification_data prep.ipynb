{
 "cells": [
  {
   "cell_type": "code",
   "execution_count": 41,
   "id": "569da796-9a13-4365-8117-c4247a3dd18e",
   "metadata": {},
   "outputs": [],
   "source": [
    "import os\n",
    "import librosa\n",
    "import json\n",
    "import librosa.display\n",
    "import matplotlib.pyplot as plt\n"
   ]
  },
  {
   "cell_type": "code",
   "execution_count": 71,
   "id": "1f40d066-02e2-4e49-8a5c-aef90de84e57",
   "metadata": {},
   "outputs": [
    {
     "name": "stdout",
     "output_type": "stream",
     "text": [
      "True\n"
     ]
    }
   ],
   "source": [
    "folder = \"music_dataset\"\n",
    "print(os.path.exists(folder))"
   ]
  },
  {
   "cell_type": "code",
   "execution_count": 72,
   "id": "2060968d-bc4f-4789-bfcb-ed5f8f1f8d78",
   "metadata": {},
   "outputs": [
    {
     "name": "stdout",
     "output_type": "stream",
     "text": [
      "processing: Piano\n",
      "processing: Banjo\n",
      "processing: Hi_Hats\n",
      "processing: Violin\n",
      "processing: Cymbals\n",
      "processing: Floor_Tom\n",
      "processing: Trombone\n",
      "processing: Clarinet\n",
      "processing: Organ\n",
      "processing: Accordion\n",
      "processing: Trumpet\n",
      "processing: Harmonica\n",
      "processing: Acoustic_Guitar\n",
      "processing: Saxophone\n",
      "processing: vibraphone\n",
      "processing: Mandolin\n",
      "processing: Tambourine\n",
      "processing: Harmonium\n",
      "processing: cowbell\n",
      "processing: Ukulele\n",
      "processing: Horn\n",
      "processing: Dobro\n",
      "processing: Shakers\n",
      "processing: Electro_Guitar\n",
      "processing: flute\n",
      "processing: Keyboard\n",
      "processing: Bass_Guitar\n",
      "processing: Drum_set\n",
      "SUCCESS\n"
     ]
    }
   ],
   "source": [
    "\n",
    "data = {\n",
    "        \"instrument\":[],\n",
    "        \"mfcc\":[],\n",
    "        \"label\":[]\n",
    "        }\n",
    "for i, (dir_path, dirnames, filenames) in enumerate(os.walk(folder)):\n",
    "    if dir_path != folder:\n",
    "        dir_component = os.path.split(dir_path)\n",
    "        ins = dir_component[1]\n",
    "        data[\"instrument\"].append(ins)\n",
    "        print(\"processing:\",ins) \n",
    "        for f in filenames:\n",
    "            file_path = os.path.join(dir_path, f)\n",
    "            try:\n",
    "                signal, sr = librosa.load(file_path, sr=None)\n",
    "                mel_spec = librosa.feature.melspectrogram(y=signal, sr=sr)\n",
    "                mfcc = librosa.feature.mfcc(S=librosa.power_to_db(mel_spec), sr=sr)\n",
    "                mfcc = mfcc.T\n",
    "                data[\"mfcc\"].append(mfcc.tolist())\n",
    "                data[\"label\"].append(i)       \n",
    "                #print(\"processing:\",f) \n",
    "            except Exception as e:\n",
    "                print(f\"Error processing {file_path}: {e}\")\n",
    "\n",
    "with open (\"music_ins_mfcc.json\",\"w\") as f:\n",
    "    json.dump(data,f)\n",
    "\n",
    "print(\"SUCCESS\")\n",
    "\n"
   ]
  },
  {
   "cell_type": "code",
   "execution_count": null,
   "id": "98e01fad-c9a5-4f1f-b107-f3ab546d899f",
   "metadata": {},
   "outputs": [],
   "source": []
  }
 ],
 "metadata": {
  "kernelspec": {
   "display_name": "Python 3 (ipykernel)",
   "language": "python",
   "name": "python3"
  },
  "language_info": {
   "codemirror_mode": {
    "name": "ipython",
    "version": 3
   },
   "file_extension": ".py",
   "mimetype": "text/x-python",
   "name": "python",
   "nbconvert_exporter": "python",
   "pygments_lexer": "ipython3",
   "version": "3.12.9"
  }
 },
 "nbformat": 4,
 "nbformat_minor": 5
}
